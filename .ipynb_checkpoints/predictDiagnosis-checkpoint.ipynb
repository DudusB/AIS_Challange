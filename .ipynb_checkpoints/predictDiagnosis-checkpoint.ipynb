{
 "cells": [
  {
   "cell_type": "code",
   "execution_count": null,
   "metadata": {},
   "outputs": [],
   "source": [
    "import pandas as pd\n",
    "import numpy as np\n",
    "import seaborn as sns\n",
    "from sklearn.model_selection import train_test_split\n",
    "from sklearn.preprocessing import StandardScaler\n",
    "import pickle\n",
    "\n",
    "def predictDiagnosis(input_file, model)\n",
    "\n",
    "with open(model, 'rb') as model_file:\n",
    "    # Entpacken Sie die Objekte aus der Datei in zwei neue Variablen\n",
    "    svr, scaler, col_to_drop = pickle.load(model_file)\n",
    "\n",
    "# col_to_drop = ['smoothness_mean', 'symmetry_mean', 'fractal_dimension_mean',\n",
    "#        'texture_se', 'smoothness_se', 'compactness_se', 'concavity_se',\n",
    "#        'symmetry_se', 'fractal_dimension_se', 'fractal_dimension_worst']\n",
    "\n",
    "df = pd.read_csv(input_file,sep=',',index_col='id')\n",
    "predicators = df.drop(columns=col_to_drop)\n",
    "\n",
    "scaler.transform(predicators)\n",
    "\n",
    "\n",
    "\n",
    "\n"
   ]
  }
 ],
 "metadata": {
  "kernelspec": {
   "display_name": "Python 3",
   "language": "python",
   "name": "python3"
  },
  "language_info": {
   "codemirror_mode": {
    "name": "ipython",
    "version": 3
   },
   "file_extension": ".py",
   "mimetype": "text/x-python",
   "name": "python",
   "nbconvert_exporter": "python",
   "pygments_lexer": "ipython3",
   "version": "3.7.6"
  }
 },
 "nbformat": 4,
 "nbformat_minor": 4
}
