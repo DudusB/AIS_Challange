{
 "cells": [
  {
   "cell_type": "code",
   "execution_count": 29,
   "metadata": {},
   "outputs": [],
   "source": [
    "import pandas as pd\n",
    "import numpy as np\n",
    "import seaborn as sns\n",
    "from sklearn.model_selection import train_test_split\n",
    "from sklearn.preprocessing import StandardScaler\n",
    "import pickle\n",
    "\n",
    "#Predcits tumor type M (malignant) B (benign) from give data set\n",
    "#@in - input_file - input .csv file with features\n",
    "#@in - model - model and other data saved in .pickle format\n",
    "\n",
    "def predictDiagnosis(input_file, model):\n",
    "\n",
    "    #Open: model, scaler, atribute columns\n",
    "    with open(model, 'rb') as model_file:\n",
    "        svr, scaler, col = pickle.load(model_file)\n",
    "\n",
    "    #Read input file\n",
    "    df = pd.read_csv(input_file,sep=',',index_col='id')\n",
    "    predicators = df[col]\n",
    "    #Standarise data\n",
    "    predicators = scaler.transform(predicators)\n",
    "    #Prediction\n",
    "    df['diagnosis'] = svr.predict(predicators)\n",
    "    #Reshape to desired output format\n",
    "    df['diagnosis'] = df['diagnosis'].apply(lambda val: 'M' if val==1 else 'B')\n",
    "    #Save to .csv file\n",
    "    df['diagnosis'].to_csv('prediction_results.csv')\n",
    "\n"
   ]
  },
  {
   "cell_type": "code",
   "execution_count": 30,
   "metadata": {},
   "outputs": [],
   "source": [
    "predictDiagnosis('training_data.csv','tumor_predictor.pickle')"
   ]
  },
  {
   "cell_type": "code",
   "execution_count": null,
   "metadata": {},
   "outputs": [],
   "source": [
    " "
   ]
  }
 ],
 "metadata": {
  "kernelspec": {
   "display_name": "Python 3",
   "language": "python",
   "name": "python3"
  },
  "language_info": {
   "codemirror_mode": {
    "name": "ipython",
    "version": 3
   },
   "file_extension": ".py",
   "mimetype": "text/x-python",
   "name": "python",
   "nbconvert_exporter": "python",
   "pygments_lexer": "ipython3",
   "version": "3.7.6"
  }
 },
 "nbformat": 4,
 "nbformat_minor": 4
}
